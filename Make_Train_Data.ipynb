{
 "cells": [
  {
   "cell_type": "code",
   "execution_count": 1,
   "metadata": {},
   "outputs": [],
   "source": [
    "import pandas as pd\n",
    "import os\n",
    "import shutil\n",
    "\n",
    "from tqdm import tqdm"
   ]
  },
  {
   "cell_type": "markdown",
   "metadata": {},
   "source": [
    "##### 데이터 불러오기"
   ]
  },
  {
   "cell_type": "code",
   "execution_count": 2,
   "metadata": {},
   "outputs": [],
   "source": [
    "pokemon_df = pd.read_csv('pokemon_dataset.csv')"
   ]
  },
  {
   "cell_type": "markdown",
   "metadata": {},
   "source": [
    "##### 포켓몬 타입별 학습데이터 생성"
   ]
  },
  {
   "cell_type": "code",
   "execution_count": 3,
   "metadata": {},
   "outputs": [],
   "source": [
    "unique_type_list = []\n",
    "unique_type_list += list(pokemon_df['base_type'].unique())\n",
    "unique_type_list += list(pokemon_df['sub_type'].unique())"
   ]
  },
  {
   "cell_type": "code",
   "execution_count": 4,
   "metadata": {},
   "outputs": [],
   "source": [
    "unique_type_list = [x for x in unique_type_list if pd.isnull(x) == False and x != 'nan']\n",
    "unique_type_list = list(set(unique_type_list))"
   ]
  },
  {
   "cell_type": "code",
   "execution_count": 7,
   "metadata": {},
   "outputs": [
    {
     "name": "stderr",
     "output_type": "stream",
     "text": [
      "100%|██████████| 18/18 [00:50<00:00,  2.79s/it]\n"
     ]
    }
   ],
   "source": [
    "for type in tqdm(unique_type_list) :\n",
    "    path = f'train_data/{type}'\n",
    "    if not os.path.exists(path) : os.mkdir(path)\n",
    "    \n",
    "    # 첫번째 타입\n",
    "    tmp_df = pokemon_df[pokemon_df['base_type'] == type]\n",
    "    for pokemon in list(tmp_df['name']) :\n",
    "        shutil.copyfile(f'data/{pokemon}.png', f'train_data/{type}/{pokemon}.png')\n",
    "    \n",
    "    # 두번째 타입\n",
    "    tmp_df = pokemon_df[pokemon_df['sub_type'] == type]\n",
    "    for pokemon in list(tmp_df['name']) :\n",
    "        shutil.copyfile(f'data/{pokemon}.png', f'train_data/{type}/{pokemon}.png')"
   ]
  },
  {
   "cell_type": "markdown",
   "metadata": {},
   "source": [
    "##### 데이터 불러오기"
   ]
  },
  {
   "cell_type": "code",
   "execution_count": 8,
   "metadata": {},
   "outputs": [],
   "source": [
    "kaggle_pokemon_df = pd.read_csv('All_Pokemon.csv',usecols=['Name','Type 1','Type 2'])\n",
    "kaggle_pokemon_df = kaggle_pokemon_df[kaggle_pokemon_df['Name'].isin(os.listdir('dataset'))]"
   ]
  },
  {
   "cell_type": "markdown",
   "metadata": {},
   "source": [
    "##### 포켓몬 타입별 학습데이터 생성"
   ]
  },
  {
   "cell_type": "code",
   "execution_count": 9,
   "metadata": {},
   "outputs": [],
   "source": [
    "unique_type_list = []\n",
    "unique_type_list += list(kaggle_pokemon_df['Type 1'].unique())\n",
    "unique_type_list += list(kaggle_pokemon_df['Type 2'].unique())"
   ]
  },
  {
   "cell_type": "code",
   "execution_count": 10,
   "metadata": {},
   "outputs": [],
   "source": [
    "unique_type_list = [x for x in unique_type_list if pd.isnull(x) == False and x != 'nan']\n",
    "unique_type_list = list(set(unique_type_list))"
   ]
  },
  {
   "cell_type": "code",
   "execution_count": 11,
   "metadata": {},
   "outputs": [
    {
     "name": "stderr",
     "output_type": "stream",
     "text": [
      "100%|██████████| 17/17 [04:13<00:00, 14.92s/it]\n"
     ]
    }
   ],
   "source": [
    "for type in tqdm(unique_type_list) :\n",
    "    path = f'train_data/{type}'\n",
    "    if not os.path.exists(path) : os.mkdir(path)\n",
    "    \n",
    "    # 첫번째 타입\n",
    "    tmp_df = kaggle_pokemon_df[kaggle_pokemon_df['Type 1'] == type]\n",
    "    for pokemon in list(tmp_df['Name']) :\n",
    "        for img_file in [file for file in os.listdir(f'dataset/{pokemon}') if file.endswith('.jpg') | file.endswith('.png')] :\n",
    "            shutil.copyfile(f'dataset/{pokemon}/{img_file}', f'train_data/{type}/{img_file}')\n",
    "    \n",
    "    # 두번째 타입\n",
    "    tmp_df = kaggle_pokemon_df[kaggle_pokemon_df['Type 2'] == type]\n",
    "    for pokemon in list(tmp_df['Name']) :\n",
    "        for img_file in [file for file in os.listdir(f'dataset/{pokemon}') if file.endswith('.jpg') | file.endswith('.png')] :\n",
    "            shutil.copyfile(f'dataset/{pokemon}/{img_file}', f'train_data/{type}/{img_file}')"
   ]
  },
  {
   "cell_type": "markdown",
   "metadata": {},
   "source": [
    "##### 학습 데이터셋 사이즈 확인"
   ]
  },
  {
   "cell_type": "code",
   "execution_count": 12,
   "metadata": {},
   "outputs": [
    {
     "name": "stdout",
     "output_type": "stream",
     "text": [
      "강철 : 220\n",
      "격투 : 579\n",
      "고스트 : 240\n",
      "노말 : 1627\n",
      "독 : 2172\n",
      "드래곤 : 309\n",
      "땅 : 964\n",
      "물 : 2482\n",
      "바위 : 774\n",
      "벌레 : 811\n",
      "불꽃 : 1095\n",
      "비행 : 1457\n",
      "악 : 73\n",
      "얼음 : 395\n",
      "에스퍼 : 1193\n",
      "전기 : 866\n",
      "페어리 : 362\n",
      "풀 : 1176\n",
      "Total data size : 16795\n"
     ]
    }
   ],
   "source": [
    "data_size = 0\n",
    "for folder in os.listdir('train_data') :\n",
    "    size = len(os.listdir(f'train_data/{folder}'))\n",
    "    print(f'{folder} : {size}')\n",
    "    data_size += len(os.listdir(f'train_data/{folder}'))\n",
    "\n",
    "print(f'Total data size : {data_size}')"
   ]
  },
  {
   "cell_type": "markdown",
   "metadata": {},
   "source": [
    "강철 : 234\n",
    "격투 : 582\n",
    "고스트 : 240\n",
    "노말 : 1634\n",
    "독 : 2182\n",
    "드래곤 : 311\n",
    "땅 : 967\n",
    "물 : 2499\n",
    "바위 : 778\n",
    "벌레 : 818\n",
    "불꽃 : 1099\n",
    "비행 : 1463\n",
    "악 : 73\n",
    "얼음 : 411\n",
    "에스퍼 : 1211\n",
    "전기 : 875\n",
    "페어리 : 366\n",
    "풀 : 1182\n",
    "Total data size : 16925"
   ]
  }
 ],
 "metadata": {
  "interpreter": {
   "hash": "9586850ec8ae4292c495b7c8a8d2604be182eac46a80c7e47e9eb9c7e72e44ba"
  },
  "kernelspec": {
   "display_name": "Python 3.8.8 ('pocketmon')",
   "language": "python",
   "name": "python3"
  },
  "language_info": {
   "codemirror_mode": {
    "name": "ipython",
    "version": 3
   },
   "file_extension": ".py",
   "mimetype": "text/x-python",
   "name": "python",
   "nbconvert_exporter": "python",
   "pygments_lexer": "ipython3",
   "version": "3.8.8"
  },
  "orig_nbformat": 4
 },
 "nbformat": 4,
 "nbformat_minor": 2
}
